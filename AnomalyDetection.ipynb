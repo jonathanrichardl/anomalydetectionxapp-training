{
 "cells": [
  {
   "cell_type": "code",
   "execution_count": 1,
   "id": "overall-azerbaijan",
   "metadata": {},
   "outputs": [],
   "source": [
    "import pandas as pd\n",
    "import numpy as np\n",
    "import joblib\n",
    "from sklearn.preprocessing import Normalizer\n",
    "from sklearn.ensemble import IsolationForest\n",
    "\n",
    "rawdata = pd.read_csv('valid.csv')"
   ]
  },
  {
   "cell_type": "code",
   "execution_count": 6,
   "id": "retained-blanket",
   "metadata": {},
   "outputs": [],
   "source": [
    "\n",
    "def isoforest(outliers_fraction=0.05, random_state=42, push_model=False):\n",
    "        iso = IsolationForest(contamination=outliers_fraction, random_state=random_state)\n",
    "        md = iso.fit(data, None)\n",
    "        if push_model:\n",
    "            joblib.dump(datacols, 'params')\n",
    "            joblib.dump(md, 'model')\n",
    "        return test(md)"
   ]
  },
  {
   "cell_type": "code",
   "execution_count": 7,
   "id": "mexican-concern",
   "metadata": {},
   "outputs": [],
   "source": [
    "from sklearn.metrics import f1_score\n",
    "def test(model):\n",
    "    pred = model.predict(X)\n",
    "    if -1 in pred:\n",
    "        pred = [1 if p == -1 else 0 for p in pred]\n",
    "    return f1_score(actual, pred)"
   ]
  },
  {
   "cell_type": "code",
   "execution_count": 2,
   "id": "internal-chosen",
   "metadata": {},
   "outputs": [],
   "source": [
    "# get the first 100000 data and drop Anomaly from data read in csv\n",
    "data = rawdata.head(100000).drop('Anomaly', axis=1)"
   ]
  },
  {
   "cell_type": "code",
   "execution_count": 3,
   "id": "considerable-stevens",
   "metadata": {},
   "outputs": [
    {
     "name": "stdout",
     "output_type": "stream",
     "text": [
      "      prb_usage  throughput       rsrq     rssinr\n",
      "0          77.0    0.300000 -10.794134  32.718077\n",
      "1          58.0    0.100000 -40.793356  14.490984\n",
      "2          56.0    0.100000 -40.793183  15.007806\n",
      "3          45.0    0.076249 -40.793541  13.999070\n",
      "4          59.0    0.100000 -40.793484  14.146399\n",
      "...         ...         ...        ...        ...\n",
      "9995       45.0    0.065244 -40.794649  11.848960\n",
      "9996       91.0    0.148048 -40.793792  13.410441\n",
      "9997       62.0    0.250000 -10.793631  33.778925\n",
      "9998       45.0    0.186928 -10.793272  34.733710\n",
      "9999       50.0    0.100000 -40.792735  16.725665\n",
      "\n",
      "[10000 rows x 4 columns]\n",
      "      prb_usage  throughput      rsrq    rssinr\n",
      "0      0.912789    0.003556 -0.127958  0.387853\n",
      "1      0.801385    0.001382 -0.563641  0.200222\n",
      "2      0.789961    0.001411 -0.575447  0.211707\n",
      "3      0.721958    0.001223 -0.654471  0.224594\n",
      "4      0.806991    0.001368 -0.557965  0.193492\n",
      "...         ...         ...       ...       ...\n",
      "9995   0.727169    0.001054 -0.659214  0.191471\n",
      "9996   0.904365    0.001471 -0.405412  0.133274\n",
      "9997   0.868039    0.003500 -0.151118  0.472926\n",
      "9998   0.777718    0.003231 -0.186536  0.600290\n",
      "9999   0.750054    0.001500 -0.611935  0.250903\n",
      "\n",
      "[10000 rows x 4 columns]\n"
     ]
    }
   ],
   "source": [
    "'''\n",
    "Preprocessing of Data\n",
    "'''\n",
    "# These column entry is not used, drop it\n",
    "temp = ['du-id', 'measTimeStampRf', 'ue-id', 'nrCellIdentity', 'targetTput', 'x', 'y']\n",
    "for col in data.columns:\n",
    "    #if column entry contains 'nb', drop it aswell\n",
    "    if 'nb' in col:\n",
    "        temp.append(col)\n",
    "# drop all the unused data\n",
    "if set(temp).issubset(data.columns):\n",
    "    temp = data[temp]\n",
    "    data = data.drop(temp, axis=1)\n",
    "# Filter datas that are not numbers\n",
    "numerics = ['int16', 'int32', 'int64', 'float16', 'float32', 'float64']\n",
    "data = data.select_dtypes(include=numerics)\n",
    "\n",
    "# Remove all NAN data\n",
    "data = data.dropna(axis=0)\n",
    "\n",
    "# Remove data that is constant\n",
    "data = data.loc[:, data.apply(pd.Series.nunique) != 1]\n",
    "\n",
    "# Remove any data with correlation higher than 0.98\n",
    "corr = data.corr().abs()\n",
    "corr = pd.DataFrame(np.tril(corr, k=-1), columns=data.columns)\n",
    "drop = [column for column in corr.columns if any(corr[column] > 0.98)]\n",
    "data = data.drop(drop,axis = 1)\n",
    "print(data)\n",
    "#normalize data\n",
    "scale = Normalizer()  # StandardScaler()\n",
    "data2 = scale.fit_transform(data)\n",
    "data = pd.DataFrame(data2, columns=data.columns)\n",
    "import joblib\n",
    "joblib.dump(scale, 'scale')\n",
    "print(data)"
   ]
  },
  {
   "cell_type": "code",
   "execution_count": 5,
   "id": "expanded-specific",
   "metadata": {},
   "outputs": [],
   "source": [
    "\"\"\"\n",
    "Modelling of Data\n",
    "\"\"\"\n",
    "datatomodel = data\n",
    "datacols = data.columns\n",
    "test =  rawdata.head(100000)\n",
    "actual = test['Anomaly']\n",
    "X = test[datacols]\n",
    "sc = joblib.load('scale')\n",
    "X = sc.transform(X)"
   ]
  },
  {
   "cell_type": "code",
   "execution_count": 9,
   "id": "approximate-television",
   "metadata": {},
   "outputs": [
    {
     "name": "stdout",
     "output_type": "stream",
     "text": [
      "Optimum value of contamination : 0.28\n",
      "Training Ends : \n"
     ]
    }
   ],
   "source": [
    "scores = []\n",
    "for of in np.arange(0.01, 0.4, 0.01):\n",
    "    scores.append(isoforest(outliers_fraction=of))\n",
    "opt_f1 = scores.index(max(scores)) + 1\n",
    "isoforest(outliers_fraction=opt_f1*0.01, push_model=True)\n",
    "print(\"Optimum value of contamination : {}\".format(opt_f1*0.01))\n",
    "print('Training Ends : ')"
   ]
  },
  {
   "cell_type": "code",
   "execution_count": 7,
   "id": "industrial-logic",
   "metadata": {},
   "outputs": [
    {
     "name": "stderr",
     "output_type": "stream",
     "text": [
      "c:\\users\\user\\appdata\\local\\programs\\python\\python39\\lib\\site-packages\\seaborn\\_decorators.py:36: FutureWarning: Pass the following variable as a keyword arg: x. From version 0.12, the only valid positional argument will be `data`, and passing other arguments without an explicit keyword will result in an error or misinterpretation.\n",
      "  warnings.warn(\n"
     ]
    },
    {
     "data": {
      "text/plain": [
       "<AxesSubplot:xlabel='rssinr'>"
      ]
     },
     "execution_count": 7,
     "metadata": {},
     "output_type": "execute_result"
    },
    {
     "data": {
      "image/png": "[encoded data removed]",
      "text/plain": [
       "<Figure size 432x288 with 1 Axes>"
      ]
     },
     "metadata": {
      "needs_background": "light"
     },
     "output_type": "display_data"
    }
   ],
   "source": [
    "import seaborn as sns\n",
    "sns.boxplot(data.rssinr)"
   ]
  },
  {
   "cell_type": "code",
   "execution_count": 5,
   "id": "mobile-provision",
   "metadata": {},
   "outputs": [
    {
     "name": "stdout",
     "output_type": "stream",
     "text": [
      "      prb_usage  throughput        rsrp       rsrq     rssinr\n",
      "0          77.0    0.300000  -89.510710 -10.794134  32.718077\n",
      "1          58.0    0.100000 -117.737803 -40.793356  14.490984\n",
      "2          56.0    0.100000 -117.220982 -40.793183  15.007806\n",
      "3          45.0    0.076249 -118.229717 -40.793541  13.999070\n",
      "4          59.0    0.100000 -118.082389 -40.793484  14.146399\n",
      "...         ...         ...         ...        ...        ...\n",
      "9995       45.0    0.065244 -120.379828 -40.794649  11.848960\n",
      "9996       91.0    0.148048 -118.818347 -40.793792  13.410441\n",
      "9997       62.0    0.250000  -88.449863 -10.793631  33.778925\n",
      "9998       45.0    0.186928  -87.495078 -10.793272  34.733710\n",
      "9999       50.0    0.100000 -115.503122 -40.792735  16.725665\n",
      "\n",
      "[10000 rows x 5 columns]\n"
     ]
    }
   ],
   "source": [
    "print(data)"
   ]
  },
  {
   "cell_type": "code",
   "execution_count": null,
   "id": "saved-knight",
   "metadata": {},
   "outputs": [],
   "source": []
  }
 ],
 "metadata": {
  "kernelspec": {
   "display_name": "Python 3",
   "language": "python",
   "name": "python3"
  },
  "language_info": {
   "codemirror_mode": {
    "name": "ipython",
    "version": 3
   },
   "file_extension": ".py",
   "mimetype": "text/x-python",
   "name": "python",
   "nbconvert_exporter": "python",
   "pygments_lexer": "ipython3",
   "version": "3.9.6"
  }
 },
 "nbformat": 4,
 "nbformat_minor": 5
}
